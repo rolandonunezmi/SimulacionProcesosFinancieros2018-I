{
 "cells": [
  {
   "cell_type": "markdown",
   "metadata": {},
   "source": [
    "# **¿Qué es una simulación?**\n",
    "> Introducción a la materia y descripción de las herramientas computacionales que se van a utilizar a lo largo del curso. \n"
   ]
  },
  {
   "cell_type": "markdown",
   "metadata": {},
   "source": [
    "___\n",
    "### Simulación\n",
    "- Simulación es una técnica numérica para realizar experimentos en una computadora digital. Estos experimentos involucran ciertos tipos de modelos matemáticos y lógicos que describen el comportamientos de sistemas de negocios, económicos, sociales, bilológicos, físicos o químicos a través de largos periodos de tiempo."
   ]
  },
  {
   "cell_type": "markdown",
   "metadata": {},
   "source": [
    "<img style=\"center\" src=\"https://upload.wikimedia.org/wikipedia/commons/thumb/c/c8/Crowd_simulation%2C_Covent_Garden.jpg/640px-Crowd_simulation%2C_Covent_Garden.jpg\" width=\"500px\" height=\"200px\" alt=\"atom\" />"
   ]
  },
  {
   "cell_type": "markdown",
   "metadata": {},
   "source": [
    "n = 10\n",
    "y0 = -2\n",
    "k = -2\n",
    "y = [y0]\n",
    "for i in range(n):\n",
    "\n",
    "    y= y + [y[i]+2]\n",
    "print (y)\n",
    "\n",
    "    \n",
    "\n",
    "\n",
    "**¿Qué es un sistema? **\n",
    "- Colección de objetos, partes, componentes, etc., que interactúan entre si, dentro de una cierta frontera, para producir un patrón particular o comportamiento. \n",
    "    - Frontera: Es necesaria esta idea para separar al sistema del resto del universo. "
   ]
  },
  {
   "cell_type": "markdown",
   "metadata": {},
   "source": [
    "**¿Qué es un modelo? **\n",
    "- Físicos (replicas) - Abstractos (Modelos matemáticos)\n",
    "    \n",
    "_Caracteristicas_ \n",
    "- Deterministicas\n",
    "- Estocásticos o probabilisticos. \n",
    "\n",
    "_Aplicación a sistemas. _\n",
    "- <font color= red > Estado dinámico </font> (incluye relaciones estacionarias como un caso especial)"
   ]
  },
  {
   "cell_type": "markdown",
   "metadata": {},
   "source": [
    "** Simulaciones continuas se tratarán como deterministas. **\n",
    "- Conjunto de ecuaciones diferencias (ordinarias, parciales)\n",
    "    \n",
    "** Simulaciones discretas como estocásticas. **\n",
    "- Conjunto de ecuaciones algebraicas."
   ]
  },
  {
   "cell_type": "markdown",
   "metadata": {},
   "source": [
    "**¿Porqué hacer simulación?**\n",
    "\n",
    "- Reducción de costos: la simulación es mucho menos costosa que la experimentación en la vida real.\n",
    "- Se pueden probar diferentes ideas en un mismo escenario.\n",
    "- Se puede determinar el impacto potencial de eventos aleatorios (inversión).\n",
    "- Evaluar si ciertos procesos son viables (determinar el impacto a largo plazo).\n",
    "- ..."
   ]
  },
  {
   "cell_type": "markdown",
   "metadata": {},
   "source": [
    "<img style=\"center\" src=\"https://upload.wikimedia.org/wikipedia/commons/4/4a/FAE_visualization.jpg\" width=\"250px\" height=\"200px\" alt=\"atom\" />"
   ]
  },
  {
   "cell_type": "markdown",
   "metadata": {},
   "source": [
    "_Referencia:_ \n",
    "_Simulation Fundamentals,  B. S. Bennett_\n",
    "\n"
   ]
  },
  {
   "cell_type": "markdown",
   "metadata": {},
   "source": [
    "### Herramientas computacionales"
   ]
  },
  {
   "cell_type": "markdown",
   "metadata": {},
   "source": [
    "### - [python](https://www.python.org) - [anaconda](https://www.continuum.io/downloads) - [jupyter](http://jupyter.org)"
   ]
  },
  {
   "cell_type": "markdown",
   "metadata": {},
   "source": [
    " <div>\n",
    "<img style=\"float: left; margin: 0px 0px 15px 15px;\" src=\"https://www.python.org/static/community_logos/python-logo.png\" width=\"200px\" height=\"200px\" alt=\"atom\" />\n",
    "<img style=\"float: left; margin: 0px 0px 15px 15px;\" src=\"https://upload.wikimedia.org/wikipedia/en/c/cd/Anaconda_Logo.png\" width=\"120\" />\n",
    "<img style=\"float: left; margin: 0px 0px 15px 15px;\" src=\"http://jupyter.org/assets/main-logo.svg\" width=\"80\" />\n"
   ]
  },
  {
   "cell_type": "markdown",
   "metadata": {},
   "source": [
    "## No confundir Anaconda con esto ! "
   ]
  },
  {
   "cell_type": "code",
   "execution_count": null,
   "metadata": {
    "collapsed": true
   },
   "outputs": [],
   "source": [
    "from IPython.display import YouTubeVideo\n",
    "YouTubeVideo('LDZX4ooRsWs')\n"
   ]
  },
  {
   "cell_type": "markdown",
   "metadata": {},
   "source": [
    "## Herramientas adicionales"
   ]
  },
  {
   "cell_type": "markdown",
   "metadata": {},
   "source": [
    "- [Markdown](https://confluence.atlassian.com/bitbucketserver/markdown-syntax-guide-776639995.html)\n",
    "- [git](https://git-scm.com)\n",
    "- [GitHub](https://github.com)"
   ]
  },
  {
   "cell_type": "markdown",
   "metadata": {},
   "source": [
    "\n",
    "### Encabezado\n",
    "- **1**\n",
    "    - *1.1*\n",
    "    - *1.2*\n",
    "- **2**\n",
    "    - *2.1*\n",
    "    - *2.2*"
   ]
  },
  {
   "cell_type": "markdown",
   "metadata": {},
   "source": [
    "### jupyter notebook"
   ]
  },
  {
   "cell_type": "markdown",
   "metadata": {},
   "source": [
    "- Aprender a usar el jupyter notebook\n",
    "   - Los notebooks tienen celdas de entrada y generalmente celdas de salida, así como celdas de texto. Las celdas de texto es lo que estas leyendo ahora. Las celdas de código inician con \"In []:\" con algún numero en los brackets. Si te colocas sobre una salda de entrada y presionas Shift-Enter, el código correrá en el <Strong> interprete </Strong> de python y el resultado se imprimirá en la celda de salida. "
   ]
  },
  {
   "cell_type": "markdown",
   "metadata": {},
   "source": [
    "\n",
    "\n",
    ">$\\frac{dy}{dt}=$\n",
    "    >-$$peerriko$$"
   ]
  },
  {
   "cell_type": "markdown",
   "metadata": {},
   "source": [
    "**Trabajando con el notebook**"
   ]
  },
  {
   "cell_type": "markdown",
   "metadata": {},
   "source": [
    "Además de poder realizar progrmación, tiene otras ventajas. Por ejemplo, como ya se dieron cuenta toda esta presentación esta hecha con el notebook. Además de eso, también se puede incluir directamente dentro de este documento, código <font color=\"blue\"> HTML </font>. \n",
    "\n",
    "Uno de los atractivos más relevantes (personalmente) es que puedes escribir ecuaciones estilo $\\LaTeX$, esto es gracias al proyecto [MathJax](https://www.mathjax.org) el cual se especializa en que podamos publicar matemáticas en línea. A continuación, se muestra una ejemplo. "
   ]
  },
  {
   "cell_type": "markdown",
   "metadata": {},
   "source": [
    "___\n",
    ">Ecuaciones de Maxwell:\n",
    ">$$\\nabla\\cdot \\mathbf{D}=\\rho\\quad \\nabla\\cdot \\mathbf{B}=0\\quad \\nabla\\times \\mathbf{E}=-\\frac{\\partial \\mathbf{B}}{\\partial t}\\quad \\nabla\\times \\mathbf{H} = \\mathbf{J} +\\frac{\\partial \\mathbf{D}}{\\partial t}$$\n",
    "\n",
    "___"
   ]
  },
  {
   "cell_type": "markdown",
   "metadata": {},
   "source": [
    "___\n",
    ">Ecuación de Bernoulli:\n",
    ">$$P_1+\\frac{1}{2}\\rho v_1^2+\\rho g h_1=P_2+\\frac{1}{2}\\rho v_2^2+\\rho g h_2,$$\n",
    ">donde:\n",
    ">- $P_1$, $v_1$ y $h_1$ es la presión, la velocidad y la altura en el punto 1,\n",
    ">- $P_2$, $v_2$ y $h_2$ es la presión, la velocidad y la altura en el punto 2,\n",
    ">- $\\rho$ es la densidad del fluido, y\n",
    ">- $g$ es la aceleración de gravedad.\n",
    "\n",
    "___\n",
    "\n",
    "https://es.khanacademy.org/science/physics/fluids/fluid-dynamics/a/what-is-bernoullis-equation"
   ]
  },
  {
   "cell_type": "markdown",
   "metadata": {},
   "source": [
    "___\n",
    ">Capitalización por *interés compuesto*:\n",
    ">$$C_k=C_0(1+i)^k,$$\n",
    ">donde:\n",
    ">- $C_k$ es el capital al final del $k$-ésimo periodo,\n",
    ">- $C_0$ es el capital inicial,\n",
    ">- $i$ es la tasa de interés pactada, y\n",
    ">- $k$ es el número de periodos.\n",
    "\n",
    "___\n",
    "https://es.wikipedia.org/wiki/Inter%C3%A9s_compuesto"
   ]
  },
  {
   "cell_type": "markdown",
   "metadata": {},
   "source": [
    "#### Archivos de python (script)\n",
    "- Estos son simplemente archivos de texto con la extensión .py\n",
    "     - user $ python miprograma.py\n",
    "- Cada linea en el archivo es una declaración de código en python, o parte del código. "
   ]
  },
  {
   "cell_type": "markdown",
   "metadata": {},
   "source": [
    "#### Programa de bienvenida. \n",
    "welcome.py\n"
   ]
  },
  {
   "cell_type": "code",
   "execution_count": null,
   "metadata": {
    "collapsed": true
   },
   "outputs": [],
   "source": [
    "%run welcome.py"
   ]
  },
  {
   "cell_type": "markdown",
   "metadata": {},
   "source": [
    "> **Actividad:** <font color = blue>** Realizar una presentación describiendo sus espectativas del curso haciendo uso de la sintaxis `Markdown`.** </font> \n",
    "\n"
   ]
  },
  {
   "cell_type": "markdown",
   "metadata": {},
   "source": [
    "<script>\n",
    "  $(document).ready(function(){\n",
    "    $('div.prompt').hide();\n",
    "    $('div.back-to-top').hide();\n",
    "    $('nav#menubar').hide();\n",
    "    $('.breadcrumb').hide();\n",
    "    $('.hidden-print').hide();\n",
    "  });\n",
    "</script>\n",
    "\n",
    "<footer id=\"attribution\" style=\"float:right; color:#808080; background:#fff;\">\n",
    "Created with Jupyter by Lázaro Alonso. Modified by Esteban Jiménez Rodríguez.\n",
    "</footer>"
   ]
  }
 ],
 "metadata": {
  "anaconda-cloud": {},
  "kernelspec": {
   "display_name": "Python 2",
   "language": "python",
   "name": "python2"
  },
  "language_info": {
   "codemirror_mode": {
    "name": "ipython",
    "version": 3
   },
   "file_extension": ".py",
   "mimetype": "text/x-python",
   "name": "python",
   "nbconvert_exporter": "python",
   "pygments_lexer": "ipython3",
   "version": "3.6.2"
  }
 },
 "nbformat": 4,
 "nbformat_minor": 1
}
