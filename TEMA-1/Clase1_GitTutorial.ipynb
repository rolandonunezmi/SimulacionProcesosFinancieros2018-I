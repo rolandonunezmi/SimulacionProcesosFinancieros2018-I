{
 "cells": [
  {
   "cell_type": "markdown",
   "metadata": {},
   "source": [
    "\n",
    "\n",
    "# `git`, `GitHub`, `GitKraken`\n",
    "\n",
    "<img style=\"float: left; margin: 15px 15px 15px 15px;\" src=\"http://conociendogithub.readthedocs.io/en/latest/_images/Git.png\" width=\"180\" height=\"50\" />\n",
    "<img style=\"float: left; margin: 15px 15px 15px 15px;\" src=\"https://c1.staticflickr.com/3/2238/13158675193_2892abac95_z.jpg\" title=\"github\" width=\"180\" height=\"50\" />\n",
    "<img style=\"float: left; margin: 15px 15px 15px 15px;\" src=\"https://www.gitkraken.com/downloads/brand-assets/gitkraken-keif-teal-sq.png\" title=\"gitkraken\" width=\"180\" height=\"50\" />"
   ]
  },
  {
   "cell_type": "markdown",
   "metadata": {},
   "source": [
    "___\n",
    "## ¿Qué es `git`?\n",
    "<img style=\"float: right; margin: 15px 15px 15px 15px;\" src=\"http://conociendogithub.readthedocs.io/en/latest/_images/Git.png\" title=\"git\" width=\"180\" height=\"50\">"
   ]
  },
  {
   "cell_type": "markdown",
   "metadata": {},
   "source": [
    "### Control de versiones\n",
    "\n",
    "<p align = \"justify\"> `git` es un software (de código abierto) de control de versiones diseñado por *Linus Torvalds*, pensando en la eficiencia y la confiabilidad del mantenimiento de versiones de aplicaciones cuando éstas tienen un gran número de archivos de código fuente.</p>\n",
    "\n",
    "<p align = \"justify\"> Se llama control de versiones a la gestión de los diversos cambios que se realizan sobre los elementos de algún producto o una configuración del mismo. Una versión, revisión o edición de un producto, es el estado en el que se encuentra el mismo en un momento dado de su desarrollo o modificación.</p>\n",
    "\n",
    "<p align = \"justify\"> `git` es independiente de `GitHub`, y es el programa que se usa para gestionar todos los cambios en las versiones de un proyecto (individual o colaborativo, local o de acceso remoto)."
   ]
  },
  {
   "cell_type": "markdown",
   "metadata": {},
   "source": [
    "**Descargar `git`**\n",
    "\n",
    "https://git-scm.com/downloads"
   ]
  },
  {
   "cell_type": "markdown",
   "metadata": {},
   "source": [
    "Referencias: \n",
    "- Documentación oficial de `git`: https://git-scm.com/doc\n",
    "- Control de versiones wiki: https://es.wikipedia.org/wiki/Control_de_versiones\n",
    "- `git` wiki: https://es.wikipedia.org/wiki/Git\n",
    "- Tutorial git: https://try.github.io/\n",
    "- Tutorial branching en `git`: http://learngitbranching.js.org"
   ]
  },
  {
   "cell_type": "markdown",
   "metadata": {},
   "source": [
    "**¿Cómo usarlo?**\n",
    "\n",
    "Mostrar en el [tutorial](https://try.github.io/) que `git` se puede usar desde la ventana de comandos, **nada más para asustarlos**."
   ]
  },
  {
   "cell_type": "markdown",
   "metadata": {},
   "source": [
    "___\n",
    "## ¿Qué es `GitHub`?\n",
    "<img style=\"float: right; margin: 15px 15px 15px 15px;\" src=\"https://c1.staticflickr.com/3/2238/13158675193_2892abac95_z.jpg\" title=\"git\" width=\"180\" height=\"50\">"
   ]
  },
  {
   "cell_type": "markdown",
   "metadata": {},
   "source": [
    "<p align = \"justify\"> `GitHub` es una compañía que ofrece servicios de *hosting* para repositorios de `git`, y es la forma más popular para trabajar con el control de versiones que brinda `git` de forma colaborativa. En pocas palabras, permite que tanto tú como otras personas del mundo trabajen juntos en proyectos, haciendo control de versiones con `git`.\n",
    "\n",
    "<p align = \"justify\"> De forma que usando `git` y `GitHub` en conjunto se puede trabajar tanto:\n",
    "- De forma local: repositorios en tu equipo, sin necesidad de conexión a internet (usando únicamente `git`).\n",
    "- De forma remota: repositorios remotos (compartidos) que no están necesariamente en tu máquina."
   ]
  },
  {
   "cell_type": "markdown",
   "metadata": {},
   "source": [
    "Referencias:\n",
    "- Página oficial de `GitHub`: https://github.com\n",
    "- http://conociendogithub.readthedocs.io/en/latest/data/introduccion/"
   ]
  },
  {
   "cell_type": "markdown",
   "metadata": {},
   "source": [
    "**¿Cómo usarlo?**\n",
    "\n",
    "<p align = \"justify\">Vamos a seguir la guía oficial para aprender a manejar `GitHub`.\n",
    "\n",
    "<p align = \"justify\">Para esto, primero nos pedirá crear una cuenta de `GitHub`.\n",
    "\n",
    "<p align = \"justify\">**Importante**: se recomienda crear una cuenta *seria*, no solo porque la vamos a utilizar continuamente en el curso, sino porque probablemente sea parte importante de su carrera profesional."
   ]
  },
  {
   "cell_type": "code",
   "execution_count": 1,
   "metadata": {},
   "outputs": [
    {
     "data": {
      "text/html": [
       "<iframe src=https://guides.github.com/activities/hello-world/ width=700 height=350></iframe>"
      ],
      "text/plain": [
       "<IPython.core.display.HTML object>"
      ]
     },
     "execution_count": 1,
     "metadata": {},
     "output_type": "execute_result"
    }
   ],
   "source": [
    "from IPython.display import HTML\n",
    "HTML('<iframe src=https://guides.github.com/activities/hello-world/ width=700 height=350></iframe>')"
   ]
  },
  {
   "cell_type": "markdown",
   "metadata": {},
   "source": [
    "___\n",
    "## ¿Qué es `GitKraken`?\n",
    "<img style=\"float: right; margin: 15px 15px 15px 15px;\" src=\"https://www.gitkraken.com/downloads/brand-assets/gitkraken-keif-teal-sq.png\" title=\"git\" width=\"180\" height=\"50\">"
   ]
  },
  {
   "cell_type": "markdown",
   "metadata": {},
   "source": [
    "### Usamos `git` desde una interfaz gráfica :)\n",
    "\n",
    "Ya vimos que todos los procedimientos con `git` se pueden correr desde la *consola*. Sin embargo, este modo de utilizar `git` puede ser tedioso para algunos (esto no solo ocurre con `git`).\n",
    "\n",
    "Por ello, `git` viene con algunas herramientas *GUI* (Graphical User Interface) por defecto con su instalación. Aún así, existen varias GUI desarrolladas por otras compañías para brindar una experiencia más cómoda según el sistema operativo.\n",
    "\n",
    "`GitKraken` es entonces una de estas GUI, **gratuita para el uso no comercial**, que tiene versiones para los sistemas operativos *Windows*, *Mac* y *Linux*. La estaremos usando en el curso por su versatilidad."
   ]
  },
  {
   "cell_type": "markdown",
   "metadata": {},
   "source": [
    "**Descargar `GitKraken`**\n",
    "\n",
    "https://www.gitkraken.com/"
   ]
  },
  {
   "cell_type": "markdown",
   "metadata": {},
   "source": [
    "Referencias:\n",
    "- https://git-scm.com/downloads/guis\n",
    "- https://support.gitkraken.com/getting-started/guide"
   ]
  },
  {
   "cell_type": "markdown",
   "metadata": {},
   "source": [
    "**¿Cómo usarlo?**\n",
    "\n",
    "Se explicará como usar directamente `GitKraken` con `GitHub`. Para ello **ya deben tener la cuenta de `GitHub` creada, junto con el repositorio `hello-world`**\n",
    "\n",
    "Explicación de clase basada en el siguiente *webinar* de `GitKraken` en `YouTube`."
   ]
  },
  {
   "cell_type": "code",
   "execution_count": null,
   "metadata": {},
   "outputs": [],
   "source": [
    "from IPython.display import YouTubeVideo\n",
    "YouTubeVideo('f0y_xCeM1Rk')"
   ]
  },
  {
   "cell_type": "markdown",
   "metadata": {},
   "source": [
    "### Receta\n",
    "\n",
    "1. Descargar e instalar `GitKraken`.\n",
    "2. Abrir `GitKraken`. Cuando nos pida autenticación, nos autenticamos con la cuenta existente de `GitHub`.\n",
    "3. Ir a la pestaña superior derecha de *Preferences* para ver *Profiles* (por defecto el de GitHub) y *Authentication*.\n",
    "    - En *Authentication*, como estamos autenticados con `GitHub` ya deberíamos estar conectados.\n",
    "    - Picarle en *Generate SSH key and add to GitHub*. Esto nos ahorrará estarnos autenticando en `GitHub` para cuando queramos actualizar el repositorio remoto.\n",
    "    - En la parte superior izquierda picarle en *Exit Preferences*.\n",
    "4. Picarle a la carpeta en la esquina superior izquierda. Tres opciones:\n",
    "    - *Open*: abrir un repositorio local ya existente.\n",
    "    - ** *Clone*: clonar un repositorio remoto.**\n",
    "    - *Init*: empezar a hacer control de versiones en un proyecto desde cero.\n",
    "5. Picarle en *Clone*. Como ya estamos autenticados en `GitHub`, aparecerán todos los repositorios disponibles en nuestra cuenta de `GitHub` (en este caso solo tendremos `hello-world`).\n",
    "    - En *Browse*, buscar el directorio/carpeta donde quieren que el repositorio sea clonado.\n",
    "    - Picar en `hello-world`.\n",
    "    - Picar en *Clone the repo*.\n",
    "6. Abrir el directorio `hello-world`, modificar el archivo `README.md` y guardar los cambios.\n",
    "    - Cuando volvamos a `GitKraken`, veremos que se ha actualizado la modificación.\n",
    "    - Picamos en el paso de la actualización y en la derecha veremos el archivo modificado.\n",
    "    - Picamos en `README.md` y podremos ver la modificación que hicimos en el archivo.\n",
    "    - Antes de llevar a cabo los cambios, ir al repositorio remoto en `GitHub` y ver que el archivo `README.md` no se ha modificado. Solo clonamos los archivos en el repositorio local.\n",
    "    - Volvemos a `GitKraken`, picamos en *Stage file* y comentamos los cambios.\n",
    "    - Picar en *Commit*.\n",
    "7. Revisar el arbol de cambios. Hay un ícono que revela hasta donde están los cambios en `GitHub` y el otro revela que vamos un paso más adelante en el repositorio local. Este cambio aún no se hace en el repositorio remoto en `GitHub`.\n",
    "8. Para sincronizar los cambios en el repositorio de `GitHub` debemos picar en *Push* en la parte superior. Los íconos deberían juntarse.\n",
    "9. Ir a `GitHub` y ver que el cambio en efecto se realizó."
   ]
  },
  {
   "cell_type": "markdown",
   "metadata": {},
   "source": [
    "> **Actividad:** <font color = blue>** No dejaré tarea esta vez :). La calificación será de acuerdo a que hayan seguido todos estos pasos en clase.** </font> "
   ]
  },
  {
   "cell_type": "markdown",
   "metadata": {},
   "source": [
    "<img src=\"https://raw.githubusercontent.com/louim/in-case-of-fire/master/in_case_of_fire.png\" title=\"In case of fire (https://github.com/louim/in-case-of-fire)\" width=\"200\" height=\"50\" align=\"center\">"
   ]
  },
  {
   "cell_type": "markdown",
   "metadata": {},
   "source": [
    "<script>\n",
    "  $(document).ready(function(){\n",
    "    $('div.prompt').hide();\n",
    "    $('div.back-to-top').hide();\n",
    "    $('nav#menubar').hide();\n",
    "    $('.breadcrumb').hide();\n",
    "    $('.hidden-print').hide();\n",
    "  });\n",
    "</script>\n",
    "\n",
    "<footer id=\"attribution\" style=\"float:right; color:#808080; background:#fff;\">\n",
    "Created with Jupyter by Esteban Jiménez Rodríguez\n",
    "</footer>"
   ]
  }
 ],
 "metadata": {
  "kernelspec": {
   "display_name": "Python 2",
   "language": "python",
   "name": "python2"
  },
  "language_info": {
   "codemirror_mode": {
    "name": "ipython",
    "version": 3
   },
   "file_extension": ".py",
   "mimetype": "text/x-python",
   "name": "python",
   "nbconvert_exporter": "python",
   "pygments_lexer": "ipython3",
   "version": "3.6.2"
  }
 },
 "nbformat": 4,
 "nbformat_minor": 1
}
